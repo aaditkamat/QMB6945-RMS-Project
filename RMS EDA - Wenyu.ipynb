{
 "cells": [
  {
   "cell_type": "code",
   "execution_count": 2,
   "id": "610feeed",
   "metadata": {},
   "outputs": [],
   "source": [
    "import pandas as pd\n",
    "import numpy as np\n",
    "import matplotlib.pylab as plt\n",
    "import seaborn as sns\n",
    "plt.style.use('ggplot')"
   ]
  },
  {
   "cell_type": "code",
   "execution_count": 6,
   "id": "d636ce9a",
   "metadata": {},
   "outputs": [
    {
     "data": {
      "text/html": [
       "<div>\n",
       "<style scoped>\n",
       "    .dataframe tbody tr th:only-of-type {\n",
       "        vertical-align: middle;\n",
       "    }\n",
       "\n",
       "    .dataframe tbody tr th {\n",
       "        vertical-align: top;\n",
       "    }\n",
       "\n",
       "    .dataframe thead th {\n",
       "        text-align: right;\n",
       "    }\n",
       "</style>\n",
       "<table border=\"1\" class=\"dataframe\">\n",
       "  <thead>\n",
       "    <tr style=\"text-align: right;\">\n",
       "      <th></th>\n",
       "      <th>Unit</th>\n",
       "      <th>Period</th>\n",
       "      <th>Days</th>\n",
       "      <th>Account</th>\n",
       "      <th>Amount</th>\n",
       "    </tr>\n",
       "  </thead>\n",
       "  <tbody>\n",
       "    <tr>\n",
       "      <th>0</th>\n",
       "      <td>00040302CD88</td>\n",
       "      <td>1</td>\n",
       "      <td>30</td>\n",
       "      <td>Sales</td>\n",
       "      <td>89952</td>\n",
       "    </tr>\n",
       "    <tr>\n",
       "      <th>1</th>\n",
       "      <td>00040302CD88</td>\n",
       "      <td>2</td>\n",
       "      <td>31</td>\n",
       "      <td>Sales</td>\n",
       "      <td>90594</td>\n",
       "    </tr>\n",
       "    <tr>\n",
       "      <th>2</th>\n",
       "      <td>00040302CD88</td>\n",
       "      <td>3</td>\n",
       "      <td>30</td>\n",
       "      <td>Sales</td>\n",
       "      <td>81909</td>\n",
       "    </tr>\n",
       "    <tr>\n",
       "      <th>3</th>\n",
       "      <td>00040302CD88</td>\n",
       "      <td>4</td>\n",
       "      <td>31</td>\n",
       "      <td>Sales</td>\n",
       "      <td>87418</td>\n",
       "    </tr>\n",
       "    <tr>\n",
       "      <th>4</th>\n",
       "      <td>00040302CD88</td>\n",
       "      <td>5</td>\n",
       "      <td>31</td>\n",
       "      <td>Sales</td>\n",
       "      <td>91109</td>\n",
       "    </tr>\n",
       "    <tr>\n",
       "      <th>...</th>\n",
       "      <td>...</td>\n",
       "      <td>...</td>\n",
       "      <td>...</td>\n",
       "      <td>...</td>\n",
       "      <td>...</td>\n",
       "    </tr>\n",
       "    <tr>\n",
       "      <th>6043</th>\n",
       "      <td>0004030BEB57</td>\n",
       "      <td>20</td>\n",
       "      <td>30</td>\n",
       "      <td>Other Non-controllables</td>\n",
       "      <td>1455</td>\n",
       "    </tr>\n",
       "    <tr>\n",
       "      <th>6044</th>\n",
       "      <td>0004030BEB57</td>\n",
       "      <td>21</td>\n",
       "      <td>31</td>\n",
       "      <td>Other Non-controllables</td>\n",
       "      <td>7456</td>\n",
       "    </tr>\n",
       "    <tr>\n",
       "      <th>6045</th>\n",
       "      <td>0004030BEB57</td>\n",
       "      <td>22</td>\n",
       "      <td>31</td>\n",
       "      <td>Other Non-controllables</td>\n",
       "      <td>2037</td>\n",
       "    </tr>\n",
       "    <tr>\n",
       "      <th>6046</th>\n",
       "      <td>0004030BEB57</td>\n",
       "      <td>23</td>\n",
       "      <td>28</td>\n",
       "      <td>Other Non-controllables</td>\n",
       "      <td>2037</td>\n",
       "    </tr>\n",
       "    <tr>\n",
       "      <th>6047</th>\n",
       "      <td>0004030BEB57</td>\n",
       "      <td>24</td>\n",
       "      <td>31</td>\n",
       "      <td>Other Non-controllables</td>\n",
       "      <td>2037</td>\n",
       "    </tr>\n",
       "  </tbody>\n",
       "</table>\n",
       "<p>6048 rows × 5 columns</p>\n",
       "</div>"
      ],
      "text/plain": [
       "              Unit  Period  Days                  Account  Amount\n",
       "0     00040302CD88       1    30                    Sales   89952\n",
       "1     00040302CD88       2    31                    Sales   90594\n",
       "2     00040302CD88       3    30                    Sales   81909\n",
       "3     00040302CD88       4    31                    Sales   87418\n",
       "4     00040302CD88       5    31                    Sales   91109\n",
       "...            ...     ...   ...                      ...     ...\n",
       "6043  0004030BEB57      20    30  Other Non-controllables    1455\n",
       "6044  0004030BEB57      21    31  Other Non-controllables    7456\n",
       "6045  0004030BEB57      22    31  Other Non-controllables    2037\n",
       "6046  0004030BEB57      23    28  Other Non-controllables    2037\n",
       "6047  0004030BEB57      24    31  Other Non-controllables    2037\n",
       "\n",
       "[6048 rows x 5 columns]"
      ]
     },
     "execution_count": 6,
     "metadata": {},
     "output_type": "execute_result"
    }
   ],
   "source": [
    "df = pd.read_csv('BenchmarkingSample20230607.csv')\n",
    "df"
   ]
  },
  {
   "cell_type": "markdown",
   "id": "438131c0",
   "metadata": {},
   "source": [
    "## Data Understanding"
   ]
  },
  {
   "cell_type": "code",
   "execution_count": 8,
   "id": "79201731",
   "metadata": {},
   "outputs": [
    {
     "data": {
      "text/plain": [
       "(6048, 5)"
      ]
     },
     "execution_count": 8,
     "metadata": {},
     "output_type": "execute_result"
    }
   ],
   "source": [
    "df.shape\n",
    "# 6048 rows and 5 columns of data"
   ]
  },
  {
   "cell_type": "code",
   "execution_count": 11,
   "id": "97da553d",
   "metadata": {},
   "outputs": [
    {
     "data": {
      "text/html": [
       "<div>\n",
       "<style scoped>\n",
       "    .dataframe tbody tr th:only-of-type {\n",
       "        vertical-align: middle;\n",
       "    }\n",
       "\n",
       "    .dataframe tbody tr th {\n",
       "        vertical-align: top;\n",
       "    }\n",
       "\n",
       "    .dataframe thead th {\n",
       "        text-align: right;\n",
       "    }\n",
       "</style>\n",
       "<table border=\"1\" class=\"dataframe\">\n",
       "  <thead>\n",
       "    <tr style=\"text-align: right;\">\n",
       "      <th></th>\n",
       "      <th>Unit</th>\n",
       "      <th>Period</th>\n",
       "      <th>Days</th>\n",
       "      <th>Account</th>\n",
       "      <th>Amount</th>\n",
       "    </tr>\n",
       "  </thead>\n",
       "  <tbody>\n",
       "    <tr>\n",
       "      <th>0</th>\n",
       "      <td>00040302CD88</td>\n",
       "      <td>1</td>\n",
       "      <td>30</td>\n",
       "      <td>Sales</td>\n",
       "      <td>89952</td>\n",
       "    </tr>\n",
       "    <tr>\n",
       "      <th>1</th>\n",
       "      <td>00040302CD88</td>\n",
       "      <td>2</td>\n",
       "      <td>31</td>\n",
       "      <td>Sales</td>\n",
       "      <td>90594</td>\n",
       "    </tr>\n",
       "    <tr>\n",
       "      <th>2</th>\n",
       "      <td>00040302CD88</td>\n",
       "      <td>3</td>\n",
       "      <td>30</td>\n",
       "      <td>Sales</td>\n",
       "      <td>81909</td>\n",
       "    </tr>\n",
       "    <tr>\n",
       "      <th>3</th>\n",
       "      <td>00040302CD88</td>\n",
       "      <td>4</td>\n",
       "      <td>31</td>\n",
       "      <td>Sales</td>\n",
       "      <td>87418</td>\n",
       "    </tr>\n",
       "    <tr>\n",
       "      <th>4</th>\n",
       "      <td>00040302CD88</td>\n",
       "      <td>5</td>\n",
       "      <td>31</td>\n",
       "      <td>Sales</td>\n",
       "      <td>91109</td>\n",
       "    </tr>\n",
       "    <tr>\n",
       "      <th>5</th>\n",
       "      <td>00040302CD88</td>\n",
       "      <td>6</td>\n",
       "      <td>30</td>\n",
       "      <td>Sales</td>\n",
       "      <td>94117</td>\n",
       "    </tr>\n",
       "    <tr>\n",
       "      <th>6</th>\n",
       "      <td>00040302CD88</td>\n",
       "      <td>7</td>\n",
       "      <td>31</td>\n",
       "      <td>Sales</td>\n",
       "      <td>101795</td>\n",
       "    </tr>\n",
       "    <tr>\n",
       "      <th>7</th>\n",
       "      <td>00040302CD88</td>\n",
       "      <td>8</td>\n",
       "      <td>30</td>\n",
       "      <td>Sales</td>\n",
       "      <td>92009</td>\n",
       "    </tr>\n",
       "    <tr>\n",
       "      <th>8</th>\n",
       "      <td>00040302CD88</td>\n",
       "      <td>9</td>\n",
       "      <td>31</td>\n",
       "      <td>Sales</td>\n",
       "      <td>97194</td>\n",
       "    </tr>\n",
       "    <tr>\n",
       "      <th>9</th>\n",
       "      <td>00040302CD88</td>\n",
       "      <td>10</td>\n",
       "      <td>31</td>\n",
       "      <td>Sales</td>\n",
       "      <td>101624</td>\n",
       "    </tr>\n",
       "    <tr>\n",
       "      <th>10</th>\n",
       "      <td>00040302CD88</td>\n",
       "      <td>11</td>\n",
       "      <td>28</td>\n",
       "      <td>Sales</td>\n",
       "      <td>110940</td>\n",
       "    </tr>\n",
       "    <tr>\n",
       "      <th>11</th>\n",
       "      <td>00040302CD88</td>\n",
       "      <td>12</td>\n",
       "      <td>31</td>\n",
       "      <td>Sales</td>\n",
       "      <td>123505</td>\n",
       "    </tr>\n",
       "    <tr>\n",
       "      <th>12</th>\n",
       "      <td>00040302CD88</td>\n",
       "      <td>13</td>\n",
       "      <td>30</td>\n",
       "      <td>Sales</td>\n",
       "      <td>118004</td>\n",
       "    </tr>\n",
       "    <tr>\n",
       "      <th>13</th>\n",
       "      <td>00040302CD88</td>\n",
       "      <td>14</td>\n",
       "      <td>31</td>\n",
       "      <td>Sales</td>\n",
       "      <td>112641</td>\n",
       "    </tr>\n",
       "    <tr>\n",
       "      <th>14</th>\n",
       "      <td>00040302CD88</td>\n",
       "      <td>15</td>\n",
       "      <td>30</td>\n",
       "      <td>Sales</td>\n",
       "      <td>117077</td>\n",
       "    </tr>\n",
       "    <tr>\n",
       "      <th>15</th>\n",
       "      <td>00040302CD88</td>\n",
       "      <td>16</td>\n",
       "      <td>31</td>\n",
       "      <td>Sales</td>\n",
       "      <td>121183</td>\n",
       "    </tr>\n",
       "    <tr>\n",
       "      <th>16</th>\n",
       "      <td>00040302CD88</td>\n",
       "      <td>17</td>\n",
       "      <td>31</td>\n",
       "      <td>Sales</td>\n",
       "      <td>115029</td>\n",
       "    </tr>\n",
       "    <tr>\n",
       "      <th>17</th>\n",
       "      <td>00040302CD88</td>\n",
       "      <td>18</td>\n",
       "      <td>30</td>\n",
       "      <td>Sales</td>\n",
       "      <td>129809</td>\n",
       "    </tr>\n",
       "    <tr>\n",
       "      <th>18</th>\n",
       "      <td>00040302CD88</td>\n",
       "      <td>19</td>\n",
       "      <td>31</td>\n",
       "      <td>Sales</td>\n",
       "      <td>136668</td>\n",
       "    </tr>\n",
       "    <tr>\n",
       "      <th>19</th>\n",
       "      <td>00040302CD88</td>\n",
       "      <td>20</td>\n",
       "      <td>30</td>\n",
       "      <td>Sales</td>\n",
       "      <td>128988</td>\n",
       "    </tr>\n",
       "  </tbody>\n",
       "</table>\n",
       "</div>"
      ],
      "text/plain": [
       "            Unit  Period  Days Account  Amount\n",
       "0   00040302CD88       1    30   Sales   89952\n",
       "1   00040302CD88       2    31   Sales   90594\n",
       "2   00040302CD88       3    30   Sales   81909\n",
       "3   00040302CD88       4    31   Sales   87418\n",
       "4   00040302CD88       5    31   Sales   91109\n",
       "5   00040302CD88       6    30   Sales   94117\n",
       "6   00040302CD88       7    31   Sales  101795\n",
       "7   00040302CD88       8    30   Sales   92009\n",
       "8   00040302CD88       9    31   Sales   97194\n",
       "9   00040302CD88      10    31   Sales  101624\n",
       "10  00040302CD88      11    28   Sales  110940\n",
       "11  00040302CD88      12    31   Sales  123505\n",
       "12  00040302CD88      13    30   Sales  118004\n",
       "13  00040302CD88      14    31   Sales  112641\n",
       "14  00040302CD88      15    30   Sales  117077\n",
       "15  00040302CD88      16    31   Sales  121183\n",
       "16  00040302CD88      17    31   Sales  115029\n",
       "17  00040302CD88      18    30   Sales  129809\n",
       "18  00040302CD88      19    31   Sales  136668\n",
       "19  00040302CD88      20    30   Sales  128988"
      ]
     },
     "execution_count": 11,
     "metadata": {},
     "output_type": "execute_result"
    }
   ],
   "source": [
    "df.head(20)\n",
    "# First 20 rows"
   ]
  },
  {
   "cell_type": "code",
   "execution_count": 12,
   "id": "39a0f083",
   "metadata": {},
   "outputs": [
    {
     "data": {
      "text/plain": [
       "Index(['Unit', 'Period', 'Days', 'Account', 'Amount'], dtype='object')"
      ]
     },
     "execution_count": 12,
     "metadata": {},
     "output_type": "execute_result"
    }
   ],
   "source": [
    "df.columns"
   ]
  },
  {
   "cell_type": "code",
   "execution_count": 16,
   "id": "23c25d7b",
   "metadata": {},
   "outputs": [
    {
     "data": {
      "text/plain": [
       "Unit       object\n",
       "Period      int64\n",
       "Days        int64\n",
       "Account    object\n",
       "Amount      int64\n",
       "dtype: object"
      ]
     },
     "execution_count": 16,
     "metadata": {},
     "output_type": "execute_result"
    }
   ],
   "source": [
    "# See comlumns' type\n",
    "df.dtypes"
   ]
  },
  {
   "cell_type": "code",
   "execution_count": 23,
   "id": "7051d9f6",
   "metadata": {},
   "outputs": [
    {
     "data": {
      "text/html": [
       "<div>\n",
       "<style scoped>\n",
       "    .dataframe tbody tr th:only-of-type {\n",
       "        vertical-align: middle;\n",
       "    }\n",
       "\n",
       "    .dataframe tbody tr th {\n",
       "        vertical-align: top;\n",
       "    }\n",
       "\n",
       "    .dataframe thead th {\n",
       "        text-align: right;\n",
       "    }\n",
       "</style>\n",
       "<table border=\"1\" class=\"dataframe\">\n",
       "  <thead>\n",
       "    <tr style=\"text-align: right;\">\n",
       "      <th></th>\n",
       "      <th>Period</th>\n",
       "      <th>Days</th>\n",
       "      <th>Amount</th>\n",
       "    </tr>\n",
       "  </thead>\n",
       "  <tbody>\n",
       "    <tr>\n",
       "      <th>count</th>\n",
       "      <td>6048.000000</td>\n",
       "      <td>6048.000000</td>\n",
       "      <td>6048.000000</td>\n",
       "    </tr>\n",
       "    <tr>\n",
       "      <th>mean</th>\n",
       "      <td>12.500000</td>\n",
       "      <td>30.416667</td>\n",
       "      <td>16741.724868</td>\n",
       "    </tr>\n",
       "    <tr>\n",
       "      <th>std</th>\n",
       "      <td>6.922759</td>\n",
       "      <td>0.862078</td>\n",
       "      <td>54557.719130</td>\n",
       "    </tr>\n",
       "    <tr>\n",
       "      <th>min</th>\n",
       "      <td>1.000000</td>\n",
       "      <td>28.000000</td>\n",
       "      <td>-14050.000000</td>\n",
       "    </tr>\n",
       "    <tr>\n",
       "      <th>25%</th>\n",
       "      <td>6.750000</td>\n",
       "      <td>30.000000</td>\n",
       "      <td>435.000000</td>\n",
       "    </tr>\n",
       "    <tr>\n",
       "      <th>50%</th>\n",
       "      <td>12.500000</td>\n",
       "      <td>31.000000</td>\n",
       "      <td>1899.000000</td>\n",
       "    </tr>\n",
       "    <tr>\n",
       "      <th>75%</th>\n",
       "      <td>18.250000</td>\n",
       "      <td>31.000000</td>\n",
       "      <td>7080.000000</td>\n",
       "    </tr>\n",
       "    <tr>\n",
       "      <th>max</th>\n",
       "      <td>24.000000</td>\n",
       "      <td>31.000000</td>\n",
       "      <td>573462.000000</td>\n",
       "    </tr>\n",
       "  </tbody>\n",
       "</table>\n",
       "</div>"
      ],
      "text/plain": [
       "            Period         Days         Amount\n",
       "count  6048.000000  6048.000000    6048.000000\n",
       "mean     12.500000    30.416667   16741.724868\n",
       "std       6.922759     0.862078   54557.719130\n",
       "min       1.000000    28.000000  -14050.000000\n",
       "25%       6.750000    30.000000     435.000000\n",
       "50%      12.500000    31.000000    1899.000000\n",
       "75%      18.250000    31.000000    7080.000000\n",
       "max      24.000000    31.000000  573462.000000"
      ]
     },
     "execution_count": 23,
     "metadata": {},
     "output_type": "execute_result"
    }
   ],
   "source": [
    "df.describe()"
   ]
  },
  {
   "cell_type": "markdown",
   "id": "729665d3",
   "metadata": {},
   "source": [
    "## Data Preparation"
   ]
  },
  {
   "cell_type": "markdown",
   "id": "b998127e",
   "metadata": {},
   "source": [
    "Dropping irrelevant columns and rows, identifying duplicated columns, renaming columns and feature creation"
   ]
  },
  {
   "cell_type": "code",
   "execution_count": 24,
   "id": "55b5fd5c",
   "metadata": {},
   "outputs": [
    {
     "data": {
      "text/html": [
       "<div>\n",
       "<style scoped>\n",
       "    .dataframe tbody tr th:only-of-type {\n",
       "        vertical-align: middle;\n",
       "    }\n",
       "\n",
       "    .dataframe tbody tr th {\n",
       "        vertical-align: top;\n",
       "    }\n",
       "\n",
       "    .dataframe thead th {\n",
       "        text-align: right;\n",
       "    }\n",
       "</style>\n",
       "<table border=\"1\" class=\"dataframe\">\n",
       "  <thead>\n",
       "    <tr style=\"text-align: right;\">\n",
       "      <th></th>\n",
       "      <th>Unit</th>\n",
       "      <th>Period</th>\n",
       "      <th>Days</th>\n",
       "      <th>Account</th>\n",
       "      <th>Amount</th>\n",
       "    </tr>\n",
       "  </thead>\n",
       "  <tbody>\n",
       "    <tr>\n",
       "      <th>0</th>\n",
       "      <td>00040302CD88</td>\n",
       "      <td>1</td>\n",
       "      <td>30</td>\n",
       "      <td>Sales</td>\n",
       "      <td>89952</td>\n",
       "    </tr>\n",
       "    <tr>\n",
       "      <th>1</th>\n",
       "      <td>00040302CD88</td>\n",
       "      <td>2</td>\n",
       "      <td>31</td>\n",
       "      <td>Sales</td>\n",
       "      <td>90594</td>\n",
       "    </tr>\n",
       "    <tr>\n",
       "      <th>2</th>\n",
       "      <td>00040302CD88</td>\n",
       "      <td>3</td>\n",
       "      <td>30</td>\n",
       "      <td>Sales</td>\n",
       "      <td>81909</td>\n",
       "    </tr>\n",
       "    <tr>\n",
       "      <th>3</th>\n",
       "      <td>00040302CD88</td>\n",
       "      <td>4</td>\n",
       "      <td>31</td>\n",
       "      <td>Sales</td>\n",
       "      <td>87418</td>\n",
       "    </tr>\n",
       "    <tr>\n",
       "      <th>4</th>\n",
       "      <td>00040302CD88</td>\n",
       "      <td>5</td>\n",
       "      <td>31</td>\n",
       "      <td>Sales</td>\n",
       "      <td>91109</td>\n",
       "    </tr>\n",
       "  </tbody>\n",
       "</table>\n",
       "</div>"
      ],
      "text/plain": [
       "           Unit  Period  Days Account  Amount\n",
       "0  00040302CD88       1    30   Sales   89952\n",
       "1  00040302CD88       2    31   Sales   90594\n",
       "2  00040302CD88       3    30   Sales   81909\n",
       "3  00040302CD88       4    31   Sales   87418\n",
       "4  00040302CD88       5    31   Sales   91109"
      ]
     },
     "execution_count": 24,
     "metadata": {},
     "output_type": "execute_result"
    }
   ],
   "source": [
    "df.head()"
   ]
  },
  {
   "cell_type": "code",
   "execution_count": 26,
   "id": "a68c20c1",
   "metadata": {},
   "outputs": [
    {
     "data": {
      "text/plain": [
       "Unit       0\n",
       "Period     0\n",
       "Days       0\n",
       "Account    0\n",
       "Amount     0\n",
       "dtype: int64"
      ]
     },
     "execution_count": 26,
     "metadata": {},
     "output_type": "execute_result"
    }
   ],
   "source": [
    "# Check missing value\n",
    "df.isna().sum()"
   ]
  },
  {
   "cell_type": "code",
   "execution_count": 32,
   "id": "358192d0",
   "metadata": {},
   "outputs": [
    {
     "data": {
      "text/html": [
       "<div>\n",
       "<style scoped>\n",
       "    .dataframe tbody tr th:only-of-type {\n",
       "        vertical-align: middle;\n",
       "    }\n",
       "\n",
       "    .dataframe tbody tr th {\n",
       "        vertical-align: top;\n",
       "    }\n",
       "\n",
       "    .dataframe thead th {\n",
       "        text-align: right;\n",
       "    }\n",
       "</style>\n",
       "<table border=\"1\" class=\"dataframe\">\n",
       "  <thead>\n",
       "    <tr style=\"text-align: right;\">\n",
       "      <th></th>\n",
       "      <th>Unit</th>\n",
       "      <th>Period</th>\n",
       "      <th>Days</th>\n",
       "      <th>Account</th>\n",
       "      <th>Amount</th>\n",
       "    </tr>\n",
       "  </thead>\n",
       "  <tbody>\n",
       "    <tr>\n",
       "      <th>2</th>\n",
       "      <td>00040302CD88</td>\n",
       "      <td>3</td>\n",
       "      <td>30</td>\n",
       "      <td>Sales</td>\n",
       "      <td>81909</td>\n",
       "    </tr>\n",
       "    <tr>\n",
       "      <th>3</th>\n",
       "      <td>00040302CD88</td>\n",
       "      <td>4</td>\n",
       "      <td>31</td>\n",
       "      <td>Sales</td>\n",
       "      <td>87418</td>\n",
       "    </tr>\n",
       "    <tr>\n",
       "      <th>4</th>\n",
       "      <td>00040302CD88</td>\n",
       "      <td>5</td>\n",
       "      <td>31</td>\n",
       "      <td>Sales</td>\n",
       "      <td>91109</td>\n",
       "    </tr>\n",
       "    <tr>\n",
       "      <th>5</th>\n",
       "      <td>00040302CD88</td>\n",
       "      <td>6</td>\n",
       "      <td>30</td>\n",
       "      <td>Sales</td>\n",
       "      <td>94117</td>\n",
       "    </tr>\n",
       "    <tr>\n",
       "      <th>6</th>\n",
       "      <td>00040302CD88</td>\n",
       "      <td>7</td>\n",
       "      <td>31</td>\n",
       "      <td>Sales</td>\n",
       "      <td>101795</td>\n",
       "    </tr>\n",
       "    <tr>\n",
       "      <th>...</th>\n",
       "      <td>...</td>\n",
       "      <td>...</td>\n",
       "      <td>...</td>\n",
       "      <td>...</td>\n",
       "      <td>...</td>\n",
       "    </tr>\n",
       "    <tr>\n",
       "      <th>6043</th>\n",
       "      <td>0004030BEB57</td>\n",
       "      <td>20</td>\n",
       "      <td>30</td>\n",
       "      <td>Other Non-controllables</td>\n",
       "      <td>1455</td>\n",
       "    </tr>\n",
       "    <tr>\n",
       "      <th>6044</th>\n",
       "      <td>0004030BEB57</td>\n",
       "      <td>21</td>\n",
       "      <td>31</td>\n",
       "      <td>Other Non-controllables</td>\n",
       "      <td>7456</td>\n",
       "    </tr>\n",
       "    <tr>\n",
       "      <th>6045</th>\n",
       "      <td>0004030BEB57</td>\n",
       "      <td>22</td>\n",
       "      <td>31</td>\n",
       "      <td>Other Non-controllables</td>\n",
       "      <td>2037</td>\n",
       "    </tr>\n",
       "    <tr>\n",
       "      <th>6046</th>\n",
       "      <td>0004030BEB57</td>\n",
       "      <td>23</td>\n",
       "      <td>28</td>\n",
       "      <td>Other Non-controllables</td>\n",
       "      <td>2037</td>\n",
       "    </tr>\n",
       "    <tr>\n",
       "      <th>6047</th>\n",
       "      <td>0004030BEB57</td>\n",
       "      <td>24</td>\n",
       "      <td>31</td>\n",
       "      <td>Other Non-controllables</td>\n",
       "      <td>2037</td>\n",
       "    </tr>\n",
       "  </tbody>\n",
       "</table>\n",
       "<p>6045 rows × 5 columns</p>\n",
       "</div>"
      ],
      "text/plain": [
       "              Unit  Period  Days                  Account  Amount\n",
       "2     00040302CD88       3    30                    Sales   81909\n",
       "3     00040302CD88       4    31                    Sales   87418\n",
       "4     00040302CD88       5    31                    Sales   91109\n",
       "5     00040302CD88       6    30                    Sales   94117\n",
       "6     00040302CD88       7    31                    Sales  101795\n",
       "...            ...     ...   ...                      ...     ...\n",
       "6043  0004030BEB57      20    30  Other Non-controllables    1455\n",
       "6044  0004030BEB57      21    31  Other Non-controllables    7456\n",
       "6045  0004030BEB57      22    31  Other Non-controllables    2037\n",
       "6046  0004030BEB57      23    28  Other Non-controllables    2037\n",
       "6047  0004030BEB57      24    31  Other Non-controllables    2037\n",
       "\n",
       "[6045 rows x 5 columns]"
      ]
     },
     "execution_count": 32,
     "metadata": {},
     "output_type": "execute_result"
    }
   ],
   "source": [
    "df.loc[df.duplicated(subset=['Days'])]"
   ]
  },
  {
   "cell_type": "markdown",
   "id": "15e701b3",
   "metadata": {},
   "source": [
    "## Feature Understanding"
   ]
  },
  {
   "cell_type": "markdown",
   "id": "5f397dc2",
   "metadata": {},
   "source": [
    "Plotting Feature Distributions: Histogram, KDE, Boxplot"
   ]
  },
  {
   "cell_type": "code",
   "execution_count": 41,
   "id": "aecf5609",
   "metadata": {},
   "outputs": [
    {
     "data": {
      "text/plain": [
       "array([30, 31, 28])"
      ]
     },
     "execution_count": 41,
     "metadata": {},
     "output_type": "execute_result"
    }
   ],
   "source": [
    "# Dig 'Days' column\n",
    "df['Days'].unique()"
   ]
  },
  {
   "cell_type": "code",
   "execution_count": 42,
   "id": "408c48a9",
   "metadata": {},
   "outputs": [
    {
     "data": {
      "text/plain": [
       "31    3528\n",
       "30    2016\n",
       "28     504\n",
       "Name: Days, dtype: int64"
      ]
     },
     "execution_count": 42,
     "metadata": {},
     "output_type": "execute_result"
    }
   ],
   "source": [
    "df['Days'].value_counts()"
   ]
  },
  {
   "cell_type": "code",
   "execution_count": 54,
   "id": "929abe19",
   "metadata": {},
   "outputs": [
    {
     "data": {
      "text/plain": [
       "Text(0, 0.5, 'Count')"
      ]
     },
     "execution_count": 54,
     "metadata": {},
     "output_type": "execute_result"
    },
    {
     "data": {
      "image/png": "[encoded data removed]",
      "text/plain": [
       "<Figure size 432x288 with 1 Axes>"
      ]
     },
     "metadata": {},
     "output_type": "display_data"
    }
   ],
   "source": [
    "# Plot distribution\n",
    "ax = df['Days'].value_counts().plot(kind='bar', title='Days Distribution for units')\n",
    "ax.set_xlabel('Accounting Days')\n",
    "ax.set_ylabel('Count')"
   ]
  },
  {
   "cell_type": "code",
   "execution_count": 43,
   "id": "2494647f",
   "metadata": {
    "scrolled": false
   },
   "outputs": [
    {
     "data": {
      "text/plain": [
       "1     252\n",
       "2     252\n",
       "23    252\n",
       "22    252\n",
       "21    252\n",
       "20    252\n",
       "19    252\n",
       "18    252\n",
       "17    252\n",
       "16    252\n",
       "15    252\n",
       "14    252\n",
       "13    252\n",
       "12    252\n",
       "11    252\n",
       "10    252\n",
       "9     252\n",
       "8     252\n",
       "7     252\n",
       "6     252\n",
       "5     252\n",
       "4     252\n",
       "3     252\n",
       "24    252\n",
       "Name: Period, dtype: int64"
      ]
     },
     "execution_count": 43,
     "metadata": {},
     "output_type": "execute_result"
    }
   ],
   "source": [
    "# Dig 'Period' column\n",
    "df['Period'].value_counts()"
   ]
  },
  {
   "cell_type": "code",
   "execution_count": 44,
   "id": "149ab18a",
   "metadata": {
    "scrolled": true
   },
   "outputs": [
    {
     "data": {
      "text/plain": [
       "00040302CD88    672\n",
       "00040302CE36    672\n",
       "00040302CF03    672\n",
       "00040302CF28    672\n",
       "00040302D006    672\n",
       "00040302D014    672\n",
       "0004030A635E    672\n",
       "0004030B92EE    672\n",
       "0004030BEB57    672\n",
       "Name: Unit, dtype: int64"
      ]
     },
     "execution_count": 44,
     "metadata": {},
     "output_type": "execute_result"
    }
   ],
   "source": [
    "df['Unit'].value_counts()"
   ]
  },
  {
   "cell_type": "code",
   "execution_count": 45,
   "id": "732290cf",
   "metadata": {
    "scrolled": true
   },
   "outputs": [
    {
     "data": {
      "text/plain": [
       "Other Controllables          1512\n",
       "Other Non-controllables      1080\n",
       "Other Labor-related Costs     648\n",
       "Maintenance & Repair          648\n",
       "Sales                         216\n",
       "Cost of Sales - Food          216\n",
       "Cost of Sales - Paper         216\n",
       "Crew Labor                    216\n",
       "Management Labor              216\n",
       "Advertising                   216\n",
       "Promotion                     216\n",
       "Outside Services              216\n",
       "Utilities                     216\n",
       "Rent                          216\n",
       "Name: Account, dtype: int64"
      ]
     },
     "execution_count": 45,
     "metadata": {},
     "output_type": "execute_result"
    }
   ],
   "source": [
    "df['Account'].value_counts()"
   ]
  },
  {
   "cell_type": "code",
   "execution_count": null,
   "id": "d3613964",
   "metadata": {},
   "outputs": [],
   "source": []
  },
  {
   "cell_type": "markdown",
   "id": "f6c6fc42",
   "metadata": {},
   "source": [
    "## Feature Relationships"
   ]
  },
  {
   "cell_type": "markdown",
   "id": "fb8cc2c6",
   "metadata": {},
   "source": [
    "Scatterplot, heatmap correlation, pairplot and groupby comparisons"
   ]
  },
  {
   "cell_type": "code",
   "execution_count": null,
   "id": "bbabe9d9",
   "metadata": {},
   "outputs": [],
   "source": [
    "# Scatter plot \n",
    "# sns.scatterplot(x= ,y= ,data= )\n",
    "# sns.pairplot()"
   ]
  },
  {
   "cell_type": "code",
   "execution_count": 55,
   "id": "e4ae83ac",
   "metadata": {},
   "outputs": [
    {
     "data": {
      "text/plain": [
       "<seaborn.axisgrid.PairGrid at 0x7fd7f5fe08b0>"
      ]
     },
     "execution_count": 55,
     "metadata": {},
     "output_type": "execute_result"
    },
    {
     "data": {
      "image/png": "[encoded data removed]",
      "text/plain": [
       "<Figure size 540x540 with 12 Axes>"
      ]
     },
     "metadata": {},
     "output_type": "display_data"
    }
   ],
   "source": [
    "sns.pairplot(df)"
   ]
  },
  {
   "cell_type": "code",
   "execution_count": null,
   "id": "c80c8d9c",
   "metadata": {},
   "outputs": [],
   "source": []
  },
  {
   "cell_type": "code",
   "execution_count": null,
   "id": "ce56e550",
   "metadata": {},
   "outputs": [],
   "source": []
  },
  {
   "cell_type": "code",
   "execution_count": null,
   "id": "7631ad62",
   "metadata": {},
   "outputs": [],
   "source": []
  },
  {
   "cell_type": "code",
   "execution_count": null,
   "id": "aae18a47",
   "metadata": {},
   "outputs": [],
   "source": []
  },
  {
   "cell_type": "code",
   "execution_count": null,
   "id": "e26e9b94",
   "metadata": {},
   "outputs": [],
   "source": []
  },
  {
   "cell_type": "code",
   "execution_count": null,
   "id": "d9982476",
   "metadata": {},
   "outputs": [],
   "source": []
  },
  {
   "cell_type": "code",
   "execution_count": null,
   "id": "58370b08",
   "metadata": {},
   "outputs": [],
   "source": []
  },
  {
   "cell_type": "code",
   "execution_count": null,
   "id": "33c9bfbd",
   "metadata": {},
   "outputs": [],
   "source": []
  }
 ],
 "metadata": {
  "kernelspec": {
   "display_name": "Python 3 (ipykernel)",
   "language": "python",
   "name": "python3"
  },
  "language_info": {
   "codemirror_mode": {
    "name": "ipython",
    "version": 3
   },
   "file_extension": ".py",
   "mimetype": "text/x-python",
   "name": "python",
   "nbconvert_exporter": "python",
   "pygments_lexer": "ipython3",
   "version": "3.9.12"
  }
 },
 "nbformat": 4,
 "nbformat_minor": 5
}
